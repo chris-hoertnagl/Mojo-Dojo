{
 "cells": [
  {
   "cell_type": "markdown",
   "id": "a7262adb-6d8b-4744-af40-195045d312db",
   "metadata": {},
   "source": [
    "## Python"
   ]
  },
  {
   "cell_type": "code",
   "execution_count": 115,
   "id": "ac2e831a-ddb9-4895-b88a-17ebedef91cd",
   "metadata": {},
   "outputs": [],
   "source": [
    "%%python\n",
    "from timeit import timeit\n",
    "import numpy as np\n",
    "\n",
    "def matmul_python(C, A, B):\n",
    "    for m in range(C.rows):\n",
    "        for k in range(A.cols):\n",
    "            for n in range(C.cols):\n",
    "                C[m, n] += A[m, k] * B[k, n]\n",
    "\n",
    "class Matrix:\n",
    "    def __init__(self, value, rows, cols):\n",
    "        self.value = value\n",
    "        self.rows = rows\n",
    "        self.cols = cols\n",
    "\n",
    "    def __getitem__(self, idxs):\n",
    "        return self.value[idxs[0]][idxs[1]]\n",
    "\n",
    "    def __setitem__(self, idxs, value):\n",
    "        self.value[idxs[0]][idxs[1]] = value\n",
    "\n",
    "def benchmark_matmul_python(M, N, K):\n",
    "    A = Matrix(list(np.random.rand(M, K)), M, K)\n",
    "    B = Matrix(list(np.random.rand(K, N)), K, N)\n",
    "    C = Matrix(list(np.zeros((M, N))), M, N)\n",
    "    secs = timeit(lambda: matmul_python(C, A, B), number=2)/2\n",
    "    gflops = ((2*M*N*K)/secs) / 1e9\n",
    "    print(gflops, \"GFLOP/s\")\n",
    "    return gflops"
   ]
  },
  {
   "cell_type": "code",
   "execution_count": 116,
   "id": "c1ddf04c-f490-40aa-a11f-eaaa4b0f6691",
   "metadata": {},
   "outputs": [
    {
     "name": "stdout",
     "output_type": "stream",
     "text": [
      "0.002040146805025923 GFLOP/s\n"
     ]
    }
   ],
   "source": [
    "python_gflops = benchmark_matmul_python(128, 128, 128).to_float64()"
   ]
  },
  {
   "cell_type": "markdown",
   "id": "7cf71445-1c1e-4465-a718-d2abef8e5302",
   "metadata": {},
   "source": [
    "# Mojo"
   ]
  },
  {
   "cell_type": "markdown",
   "id": "b1091837-2b44-4211-8914-c7ec05815419",
   "metadata": {},
   "source": [
    "## Matrix struct"
   ]
  },
  {
   "cell_type": "code",
   "execution_count": 117,
   "id": "aae6fea6-bb90-4ec3-a8da-7e3a4214c0eb",
   "metadata": {},
   "outputs": [],
   "source": [
    "import benchmark\n",
    "from memory import memset_zero\n",
    "from random import rand, random_float64"
   ]
  },
  {
   "cell_type": "code",
   "execution_count": 118,
   "id": "abbed8de-7e06-4517-86e2-f5a84be8b3b3",
   "metadata": {},
   "outputs": [],
   "source": [
    "alias type = DType.float32\n",
    "\n",
    "struct Matrix[rows: Int, cols: Int]:\n",
    "    var data: DTypePointer[type]\n",
    "\n",
    "    # Initialize zeroeing all values\n",
    "    fn __init__(inout self):\n",
    "        self.data = DTypePointer[type].alloc(rows * cols)\n",
    "        memset_zero(self.data, rows * cols)\n",
    "\n",
    "    # Initialize taking a pointer, don't set any elements\n",
    "    fn __init__(inout self, data: DTypePointer[type]):\n",
    "        self.data = data\n",
    "\n",
    "    fn __init__(inout self, vec: SIMD[type, rows * cols]):\n",
    "        self.data = DTypePointer[type].alloc(rows * cols)\n",
    "        self.store(0, 0, vec)\n",
    "\n",
    "    # Initialize with random values\n",
    "    @staticmethod\n",
    "    fn rand() -> Self:\n",
    "        var data = DTypePointer[type].alloc(rows * cols)\n",
    "        rand(data, rows * cols)\n",
    "        return Self(data)\n",
    "        \n",
    "    fn __getitem__(self, y: Int, x: Int) -> Scalar[type]:\n",
    "        return self.load[1](y, x)\n",
    "\n",
    "    fn __setitem__(self, y: Int, x: Int, val: Scalar[type]):\n",
    "        self.store[1](y, x, val)\n",
    "\n",
    "    fn load[nelts: Int](self, y: Int, x: Int) -> SIMD[type, nelts]:\n",
    "        return self.data.load[width=nelts](y * self.cols + x)\n",
    "\n",
    "    fn store[nelts: Int](self, y: Int, x: Int, val: SIMD[type, nelts]):\n",
    "        return self.data.store[width=nelts](y * self.cols + x, val)\n",
    "\n",
    "    fn __str__(self) -> String:\n",
    "        var matrix_string = String(\"\")\n",
    "        for r in range(rows):\n",
    "            matrix_string += String(self.load[cols](r,0))\n",
    "            matrix_string += \"\\n\"\n",
    "        return matrix_string"
   ]
  },
  {
   "cell_type": "code",
   "execution_count": 119,
   "id": "5b82b91e-b8da-4f8c-8316-148aec625661",
   "metadata": {},
   "outputs": [],
   "source": [
    "# Note that C, A, and B have types.\n",
    "fn matmul_naive(C: Matrix, A: Matrix, B: Matrix):\n",
    "    for m in range(C.rows):\n",
    "        for k in range(A.cols):\n",
    "            for n in range(C.cols):\n",
    "                C[m, n] += A[m, k] * B[k, n]"
   ]
  },
  {
   "cell_type": "code",
   "execution_count": 131,
   "id": "b60d0a60-107f-4139-a833-c0bc3d691bd4",
   "metadata": {},
   "outputs": [],
   "source": [
    "# Parallelize the code by using the builtin parallelize function\n",
    "\n",
    "alias nelts = simdwidthof[DType.float32]() * 2\n",
    "from algorithm import vectorize, parallelize\n",
    "\n",
    "fn matmul(C: Matrix, A: Matrix, B: Matrix):\n",
    "    @parameter\n",
    "    fn calc_row(m: Int):\n",
    "        for k in range(A.cols):\n",
    "            @parameter\n",
    "            fn dot[nelts : Int](n : Int):\n",
    "                C.store[nelts](m,n, C.load[nelts](m,n) + A[m,k] * B.load[nelts](k,n))\n",
    "            vectorize[dot, nelts, size = C.cols]()\n",
    "    parallelize[calc_row](C.rows, C.rows)"
   ]
  },
  {
   "cell_type": "code",
   "execution_count": 132,
   "id": "4e655feb-f022-4f27-9131-9624c421e5c8",
   "metadata": {},
   "outputs": [
    {
     "name": "stdout",
     "output_type": "stream",
     "text": [
      "[0.0, 0.0]\n",
      "[0.0, 0.0]\n",
      "[4.0, 3.0]\n",
      "[0.0, 0.0]\n",
      "\n"
     ]
    }
   ],
   "source": [
    "var A = Matrix[4, 2]()\n",
    "A[1, 2] = 4.0\n",
    "A[2, 1] = 3.0\n",
    "print(A)"
   ]
  },
  {
   "cell_type": "code",
   "execution_count": 133,
   "id": "8e1970db-824c-44a6-b417-7282adfa3666",
   "metadata": {},
   "outputs": [
    {
     "name": "stdout",
     "output_type": "stream",
     "text": [
      "[0.0, 0.0]\n",
      "[0.0, 3.0]\n",
      "[0.0, 4.0]\n",
      "[0.0, 0.0]\n",
      "\n"
     ]
    }
   ],
   "source": [
    "var B = Matrix[4, 2]()\n",
    "B[1, 1] = 3.0\n",
    "B[2, 1] = 4.0\n",
    "print(B)"
   ]
  },
  {
   "cell_type": "code",
   "execution_count": 134,
   "id": "7f09785f-3853-4231-a7f9-200daad27b69",
   "metadata": {},
   "outputs": [
    {
     "name": "stdout",
     "output_type": "stream",
     "text": [
      "[0.0, 1.0]\n",
      "[2.0, 3.0]\n",
      "[4.0, 5.0]\n",
      "[0.0, 0.0]\n",
      "\n"
     ]
    }
   ],
   "source": [
    "var C = Matrix[4, 2](SIMD[type, 8](0, 1, 2, 3, 4, 5))\n",
    "print(C)"
   ]
  },
  {
   "cell_type": "code",
   "execution_count": 135,
   "id": "b3548f00-4032-4ded-9166-26e9df5b7d74",
   "metadata": {},
   "outputs": [
    {
     "name": "stdout",
     "output_type": "stream",
     "text": [
      "[0.0, 1.0]\n",
      "[2.0, 3.0]\n",
      "[4.0, 14.0]\n",
      "[0.0, 0.0]\n",
      "\n"
     ]
    }
   ],
   "source": [
    "matmul(C, A, B)\n",
    "print(C)"
   ]
  },
  {
   "cell_type": "code",
   "execution_count": 136,
   "id": "52b0b29d-6268-4d6b-8b24-cdcb4c3ef957",
   "metadata": {},
   "outputs": [
    {
     "name": "stdout",
     "output_type": "stream",
     "text": [
      "[0.0, 1.0]\n",
      "[2.0, 3.0]\n",
      "[4.0, 5.0]\n",
      "[0.0, 0.0]\n",
      "\n"
     ]
    }
   ],
   "source": [
    "C.store[8](0, 0, SIMD[type, 8](0, 1, 2, 3, 4, 5))\n",
    "print(C)"
   ]
  },
  {
   "cell_type": "markdown",
   "id": "9e7463fe-01b0-4ce8-a42d-929469704845",
   "metadata": {},
   "source": [
    "## Neural net"
   ]
  },
  {
   "cell_type": "code",
   "execution_count": 145,
   "id": "efffbe55-da9b-49e5-a3ae-e100e437e51c",
   "metadata": {},
   "outputs": [
    {
     "name": "stdout",
     "output_type": "stream",
     "text": [
      "[1.0, 2.0, 3.0, 4.0]\n",
      "\n"
     ]
    }
   ],
   "source": [
    "var inputs = Matrix[1, 4](SIMD[type, 4](1, 2, 3, 4))\n",
    "print(inputs)"
   ]
  },
  {
   "cell_type": "code",
   "execution_count": 146,
   "id": "62b65672-5855-4520-91f3-1fa7c79032d1",
   "metadata": {},
   "outputs": [
    {
     "name": "stdout",
     "output_type": "stream",
     "text": [
      "1.0\n",
      "1.0\n",
      "2.0\n",
      "2.0\n",
      "\n"
     ]
    }
   ],
   "source": [
    "var weights = Matrix[4, 1](SIMD[type, 4](1, 1, 2, 2))\n",
    "print(weights)"
   ]
  },
  {
   "cell_type": "code",
   "execution_count": 147,
   "id": "d903a385-6f0a-4415-8ead-82071dff3ff6",
   "metadata": {},
   "outputs": [
    {
     "name": "stdout",
     "output_type": "stream",
     "text": [
      "0.0\n",
      "\n"
     ]
    }
   ],
   "source": [
    "var outputs = Matrix[1, 1]()\n",
    "print(outputs)"
   ]
  },
  {
   "cell_type": "code",
   "execution_count": 148,
   "id": "9e0b8986-bfe8-4e25-ba54-c1ffe2808a4b",
   "metadata": {},
   "outputs": [],
   "source": [
    "matmul(outputs, inputs, weights)"
   ]
  },
  {
   "cell_type": "code",
   "execution_count": 149,
   "id": "fbbc2d81-28e4-45ae-ad93-b3297aa1a92a",
   "metadata": {},
   "outputs": [
    {
     "name": "stdout",
     "output_type": "stream",
     "text": [
      "17.0\n",
      "\n"
     ]
    }
   ],
   "source": [
    "print(outputs)"
   ]
  },
  {
   "cell_type": "code",
   "execution_count": null,
   "id": "8c48c69e-ecc6-4c93-a577-1fe2c1df34fb",
   "metadata": {},
   "outputs": [],
   "source": []
  }
 ],
 "metadata": {
  "kernelspec": {
   "display_name": "Mojo",
   "language": "mojo",
   "name": "mojo-jupyter-kernel"
  },
  "language_info": {
   "codemirror_mode": {
    "name": "mojo"
   },
   "file_extension": ".mojo",
   "mimetype": "text/x-mojo",
   "name": "mojo"
  }
 },
 "nbformat": 4,
 "nbformat_minor": 5
}
