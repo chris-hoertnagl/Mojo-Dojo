{
 "cells": [
  {
   "cell_type": "code",
   "execution_count": 279,
   "id": "f2352f04",
   "metadata": {},
   "outputs": [],
   "source": [
    "import numpy as np"
   ]
  },
  {
   "cell_type": "markdown",
   "id": "c23fc7ee",
   "metadata": {},
   "source": [
    "## NN Dev"
   ]
  },
  {
   "cell_type": "code",
   "execution_count": 280,
   "id": "8c48c69e-ecc6-4c93-a577-1fe2c1df34fb",
   "metadata": {},
   "outputs": [],
   "source": [
    "class NeuralNetwork:\n",
    "    def __init__(self, input_size, layer_1_size, layer_2_size, output_size, dtype = np.float64):\n",
    "        self.input_size = input_size\n",
    "        self.layer_1_size = layer_1_size\n",
    "        self.layer_2_size = layer_2_size\n",
    "        self.output_size = output_size\n",
    "\n",
    "        self.w1 = np.random.rand(self.input_size, self.layer_1_size).astype(dtype) # np.ones(shape=(self.input_size, self.layer_1_size))\n",
    "        self.w2 = np.random.rand(self.layer_1_size, self.layer_2_size).astype(dtype) # np.ones(shape=(self.layer_1_size, self.layer_2_size)) \n",
    "        self.w3 = np.random.rand(self.layer_2_size, self.output_size).astype(dtype) # np.ones(shape=(self.layer_2_size, self.output_size))\n",
    "    \n",
    "    def forward(self, x):\n",
    "        self.l1 = x @ self.w1\n",
    "        self.a1 = self.sigmoid(self.l1)\n",
    "        self.l2 = self.a1 @ self.w2\n",
    "        self.a2 = self.sigmoid(self.l2)\n",
    "        self.o = self.a2 @ self.w3\n",
    "        self.s = self.softmax(self.o)\n",
    "        return self.s\n",
    "    \n",
    "    def sigmoid(self, x):\n",
    "        return 1 / (1 + np.exp(-x))\n",
    "\n",
    "    def softmax(self, x):\n",
    "        return np.exp(x) / np.sum(np.exp(x))\n",
    "        \n"
   ]
  },
  {
   "cell_type": "markdown",
   "id": "cf8637b4",
   "metadata": {},
   "source": [
    "### NN Testing"
   ]
  },
  {
   "cell_type": "code",
   "execution_count": 281,
   "id": "dee0953d",
   "metadata": {},
   "outputs": [
    {
     "data": {
      "text/plain": [
       "array([[1, 2, 3]])"
      ]
     },
     "execution_count": 281,
     "metadata": {},
     "output_type": "execute_result"
    }
   ],
   "source": [
    "nn = NeuralNetwork(3, 4, 4, 2)\n",
    "x = np.array([1, 2, 3]).reshape(1,3)\n",
    "x"
   ]
  },
  {
   "cell_type": "code",
   "execution_count": 282,
   "id": "1d64baec",
   "metadata": {},
   "outputs": [
    {
     "name": "stdout",
     "output_type": "stream",
     "text": [
      "(1, 3)\n",
      "(3, 4)\n",
      "(4, 4)\n",
      "(4, 2)\n"
     ]
    }
   ],
   "source": [
    "print(x.shape)\n",
    "print(nn.w1.shape)\n",
    "print(nn.w2.shape)\n",
    "print(nn.w3.shape)"
   ]
  },
  {
   "cell_type": "code",
   "execution_count": 283,
   "id": "c4347bd3",
   "metadata": {},
   "outputs": [
    {
     "data": {
      "text/plain": [
       "array([[0.46760209, 0.53239791]])"
      ]
     },
     "execution_count": 283,
     "metadata": {},
     "output_type": "execute_result"
    }
   ],
   "source": [
    "nn.forward(x)"
   ]
  },
  {
   "cell_type": "code",
   "execution_count": 284,
   "id": "d7a01763",
   "metadata": {},
   "outputs": [
    {
     "data": {
      "text/plain": [
       "array([[1.29999043, 1.42976391]])"
      ]
     },
     "execution_count": 284,
     "metadata": {},
     "output_type": "execute_result"
    }
   ],
   "source": [
    "nn.o"
   ]
  },
  {
   "cell_type": "code",
   "execution_count": 285,
   "id": "b44048f7",
   "metadata": {},
   "outputs": [
    {
     "data": {
      "text/plain": [
       "array([[-1, -2, -3]])"
      ]
     },
     "execution_count": 285,
     "metadata": {},
     "output_type": "execute_result"
    }
   ],
   "source": [
    "-x"
   ]
  },
  {
   "cell_type": "code",
   "execution_count": 286,
   "id": "abe9c621",
   "metadata": {},
   "outputs": [
    {
     "data": {
      "text/plain": [
       "array([[ 2.71828183,  7.3890561 , 20.08553692]])"
      ]
     },
     "execution_count": 286,
     "metadata": {},
     "output_type": "execute_result"
    }
   ],
   "source": [
    "np.exp(x)"
   ]
  },
  {
   "cell_type": "code",
   "execution_count": 287,
   "id": "95edd3de",
   "metadata": {},
   "outputs": [
    {
     "data": {
      "text/plain": [
       "array([[0.73105858, 0.88079708, 0.95257413]])"
      ]
     },
     "execution_count": 287,
     "metadata": {},
     "output_type": "execute_result"
    }
   ],
   "source": [
    "1 / (1 + np.exp(-x))"
   ]
  },
  {
   "cell_type": "code",
   "execution_count": 288,
   "id": "900c4a35",
   "metadata": {},
   "outputs": [
    {
     "data": {
      "text/plain": [
       "array([[0.73105858, 0.88079708, 0.95257413]])"
      ]
     },
     "execution_count": 288,
     "metadata": {},
     "output_type": "execute_result"
    }
   ],
   "source": [
    "np.exp(x) / (np.exp(x) + 1)"
   ]
  },
  {
   "cell_type": "code",
   "execution_count": 289,
   "id": "5bd29aa0",
   "metadata": {},
   "outputs": [
    {
     "data": {
      "text/plain": [
       "array([[ 2.71828183,  7.3890561 , 20.08553692]])"
      ]
     },
     "execution_count": 289,
     "metadata": {},
     "output_type": "execute_result"
    }
   ],
   "source": [
    "np.exp(x)"
   ]
  },
  {
   "cell_type": "code",
   "execution_count": 290,
   "id": "2258d50a",
   "metadata": {},
   "outputs": [
    {
     "data": {
      "text/plain": [
       "np.int64(6)"
      ]
     },
     "execution_count": 290,
     "metadata": {},
     "output_type": "execute_result"
    }
   ],
   "source": [
    "np.sum(x)"
   ]
  },
  {
   "cell_type": "code",
   "execution_count": 291,
   "id": "27f25fbd",
   "metadata": {},
   "outputs": [
    {
     "data": {
      "text/plain": [
       "array([[0.09003057, 0.24472847, 0.66524096]])"
      ]
     },
     "execution_count": 291,
     "metadata": {},
     "output_type": "execute_result"
    }
   ],
   "source": [
    "s = np.exp(x) / np.sum(np.exp(x))\n",
    "s"
   ]
  },
  {
   "cell_type": "code",
   "execution_count": 292,
   "id": "0befaf92",
   "metadata": {},
   "outputs": [
    {
     "data": {
      "text/plain": [
       "np.float64(1.0)"
      ]
     },
     "execution_count": 292,
     "metadata": {},
     "output_type": "execute_result"
    }
   ],
   "source": [
    "np.sum(s)"
   ]
  },
  {
   "cell_type": "markdown",
   "id": "f67fb5d7",
   "metadata": {},
   "source": [
    "## MNIST"
   ]
  },
  {
   "cell_type": "markdown",
   "id": "4dbdf96f",
   "metadata": {},
   "source": [
    "### Data Prep"
   ]
  },
  {
   "cell_type": "code",
   "execution_count": 293,
   "id": "81d2bf20",
   "metadata": {},
   "outputs": [],
   "source": [
    "# with open(\"./train.csv\") as f:\n",
    "#     data = f.readlines()\n",
    "# data = data[1:]\n",
    "# data = np.array([[int(x) for x in line.split(\",\")] for line in data])\n",
    "# data"
   ]
  },
  {
   "cell_type": "code",
   "execution_count": 294,
   "id": "218a5f01",
   "metadata": {},
   "outputs": [],
   "source": [
    "def plot_image(image):\n",
    "    c = 0\n",
    "    for pixel in image:\n",
    "        if pixel > 0:\n",
    "            print(\"@\", end=\"\")\n",
    "        else:\n",
    "            print(\".\", end=\"\")\n",
    "        print(\"   \", end=\"\")\n",
    "        c += 1\n",
    "        if c == 28:\n",
    "            print(\"\\n\")\n",
    "            c = 0"
   ]
  },
  {
   "cell_type": "code",
   "execution_count": 295,
   "id": "80dff9b7",
   "metadata": {},
   "outputs": [
    {
     "data": {
      "text/plain": [
       "(42000, 784)"
      ]
     },
     "execution_count": 295,
     "metadata": {},
     "output_type": "execute_result"
    }
   ],
   "source": [
    "X = data[:, 1:]\n",
    "X.shape"
   ]
  },
  {
   "cell_type": "code",
   "execution_count": 296,
   "id": "c0f56430",
   "metadata": {},
   "outputs": [
    {
     "data": {
      "text/plain": [
       "dtype('int64')"
      ]
     },
     "execution_count": 296,
     "metadata": {},
     "output_type": "execute_result"
    }
   ],
   "source": [
    "X.dtype"
   ]
  },
  {
   "cell_type": "code",
   "execution_count": 297,
   "id": "75704d2a",
   "metadata": {},
   "outputs": [
    {
     "data": {
      "text/plain": [
       "(42000, 1)"
      ]
     },
     "execution_count": 297,
     "metadata": {},
     "output_type": "execute_result"
    }
   ],
   "source": [
    "y = data[:, [0]]\n",
    "y.shape"
   ]
  },
  {
   "cell_type": "code",
   "execution_count": 298,
   "id": "11f11878",
   "metadata": {},
   "outputs": [],
   "source": [
    "def one_hot(value, N=10):\n",
    "    vec = np.zeros(N)\n",
    "    vec[value] = 1\n",
    "    return vec"
   ]
  },
  {
   "cell_type": "code",
   "execution_count": 299,
   "id": "9a2773f4",
   "metadata": {},
   "outputs": [
    {
     "data": {
      "text/plain": [
       "(42000, 10)"
      ]
     },
     "execution_count": 299,
     "metadata": {},
     "output_type": "execute_result"
    }
   ],
   "source": [
    "y = np.array([one_hot(c) for c in y])\n",
    "y.shape"
   ]
  },
  {
   "cell_type": "markdown",
   "id": "91130b23",
   "metadata": {},
   "source": [
    "### Mnist NN"
   ]
  },
  {
   "cell_type": "code",
   "execution_count": 300,
   "id": "8a5dcbd4",
   "metadata": {},
   "outputs": [],
   "source": [
    "hidden_dim = 256\n",
    "mnist_nn = NeuralNetwork(X.shape[1], hidden_dim, hidden_dim, y.shape[1], np.float64)"
   ]
  },
  {
   "cell_type": "code",
   "execution_count": 301,
   "id": "c5276aef",
   "metadata": {},
   "outputs": [
    {
     "name": "stdout",
     "output_type": "stream",
     "text": [
      "[0. 0. 0. 0. 0. 1. 0. 0. 0. 0.]\n",
      "5\n",
      "[4.31324714e-08 9.49350413e-01 3.84909163e-03 2.60010203e-02\n",
      " 7.77814852e-06 1.36568743e-03 1.05471434e-03 1.67607207e-02\n",
      " 1.60904072e-03 1.49087298e-06]\n",
      "1\n"
     ]
    }
   ],
   "source": [
    "index = 8\n",
    "print(y[index])\n",
    "print(np.where(y[index] == 1)[0][0])\n",
    "print(mnist_nn.forward(X[index]))\n",
    "print(np.argmax(mnist_nn.forward(X[index])))\n",
    "#plot_image(X[index])"
   ]
  },
  {
   "cell_type": "code",
   "execution_count": null,
   "id": "7e080fa9",
   "metadata": {},
   "outputs": [],
   "source": []
  }
 ],
 "metadata": {
  "kernelspec": {
   "display_name": "Python 3",
   "language": "python",
   "name": "python3"
  },
  "language_info": {
   "codemirror_mode": {
    "name": "ipython",
    "version": 3
   },
   "file_extension": ".py",
   "mimetype": "text/x-python",
   "name": "python",
   "nbconvert_exporter": "python",
   "pygments_lexer": "ipython3",
   "version": "3.11.9"
  }
 },
 "nbformat": 4,
 "nbformat_minor": 5
}
